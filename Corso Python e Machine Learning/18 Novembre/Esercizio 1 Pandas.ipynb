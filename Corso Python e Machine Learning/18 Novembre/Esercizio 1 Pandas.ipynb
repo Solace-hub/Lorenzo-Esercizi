{
 "cells": [
  {
   "cell_type": "code",
   "execution_count": 2,
   "metadata": {},
   "outputs": [],
   "source": [
    "import pandas as pd\n",
    "import numpy as np"
   ]
  },
  {
   "cell_type": "code",
   "execution_count": 3,
   "metadata": {},
   "outputs": [],
   "source": [
    "nomi = ['Anna', 'Luca', 'Maria', 'Giovanni', 'Chiara', 'Francesco', 'Elena', 'Marco', 'Sara', 'Paolo']\n",
    "città = ['Roma', 'Milano', 'Napoli', 'Torino', 'Palermo', 'Firenze', 'Bologna', 'Venezia', 'Genova', 'Verona']\n"
   ]
  },
  {
   "cell_type": "code",
   "execution_count": 6,
   "metadata": {},
   "outputs": [],
   "source": [
    "dati = {\n",
    "    \"Nome\": np.random.choice(nomi, 10),\n",
    "    \"Età\": np.random.randint(10, 90, 10),\n",
    "    \"Città\": np.random.choice(città, 10),\n",
    "    \"Salario\": np.random.randint(20000, 80000, 10)\n",
    "}\n",
    "df = pd.DataFrame(dati)"
   ]
  },
  {
   "cell_type": "code",
   "execution_count": 7,
   "metadata": {},
   "outputs": [
    {
     "data": {
      "text/html": [
       "<div>\n",
       "<style scoped>\n",
       "    .dataframe tbody tr th:only-of-type {\n",
       "        vertical-align: middle;\n",
       "    }\n",
       "\n",
       "    .dataframe tbody tr th {\n",
       "        vertical-align: top;\n",
       "    }\n",
       "\n",
       "    .dataframe thead th {\n",
       "        text-align: right;\n",
       "    }\n",
       "</style>\n",
       "<table border=\"1\" class=\"dataframe\">\n",
       "  <thead>\n",
       "    <tr style=\"text-align: right;\">\n",
       "      <th></th>\n",
       "      <th>Nome</th>\n",
       "      <th>Età</th>\n",
       "      <th>Città</th>\n",
       "      <th>Salario</th>\n",
       "    </tr>\n",
       "  </thead>\n",
       "  <tbody>\n",
       "    <tr>\n",
       "      <th>0</th>\n",
       "      <td>Anna</td>\n",
       "      <td>20</td>\n",
       "      <td>Palermo</td>\n",
       "      <td>47768</td>\n",
       "    </tr>\n",
       "    <tr>\n",
       "      <th>1</th>\n",
       "      <td>Paolo</td>\n",
       "      <td>39</td>\n",
       "      <td>Roma</td>\n",
       "      <td>37849</td>\n",
       "    </tr>\n",
       "    <tr>\n",
       "      <th>2</th>\n",
       "      <td>Maria</td>\n",
       "      <td>36</td>\n",
       "      <td>Firenze</td>\n",
       "      <td>58925</td>\n",
       "    </tr>\n",
       "    <tr>\n",
       "      <th>3</th>\n",
       "      <td>Francesco</td>\n",
       "      <td>61</td>\n",
       "      <td>Bologna</td>\n",
       "      <td>45056</td>\n",
       "    </tr>\n",
       "    <tr>\n",
       "      <th>4</th>\n",
       "      <td>Maria</td>\n",
       "      <td>47</td>\n",
       "      <td>Milano</td>\n",
       "      <td>65281</td>\n",
       "    </tr>\n",
       "    <tr>\n",
       "      <th>5</th>\n",
       "      <td>Marco</td>\n",
       "      <td>73</td>\n",
       "      <td>Firenze</td>\n",
       "      <td>75982</td>\n",
       "    </tr>\n",
       "    <tr>\n",
       "      <th>6</th>\n",
       "      <td>Sara</td>\n",
       "      <td>27</td>\n",
       "      <td>Napoli</td>\n",
       "      <td>66285</td>\n",
       "    </tr>\n",
       "    <tr>\n",
       "      <th>7</th>\n",
       "      <td>Maria</td>\n",
       "      <td>54</td>\n",
       "      <td>Genova</td>\n",
       "      <td>22090</td>\n",
       "    </tr>\n",
       "    <tr>\n",
       "      <th>8</th>\n",
       "      <td>Anna</td>\n",
       "      <td>27</td>\n",
       "      <td>Verona</td>\n",
       "      <td>40693</td>\n",
       "    </tr>\n",
       "    <tr>\n",
       "      <th>9</th>\n",
       "      <td>Anna</td>\n",
       "      <td>15</td>\n",
       "      <td>Venezia</td>\n",
       "      <td>25050</td>\n",
       "    </tr>\n",
       "  </tbody>\n",
       "</table>\n",
       "</div>"
      ],
      "text/plain": [
       "        Nome  Età    Città  Salario\n",
       "0       Anna   20  Palermo    47768\n",
       "1      Paolo   39     Roma    37849\n",
       "2      Maria   36  Firenze    58925\n",
       "3  Francesco   61  Bologna    45056\n",
       "4      Maria   47   Milano    65281\n",
       "5      Marco   73  Firenze    75982\n",
       "6       Sara   27   Napoli    66285\n",
       "7      Maria   54   Genova    22090\n",
       "8       Anna   27   Verona    40693\n",
       "9       Anna   15  Venezia    25050"
      ]
     },
     "execution_count": 7,
     "metadata": {},
     "output_type": "execute_result"
    }
   ],
   "source": [
    "df"
   ]
  },
  {
   "cell_type": "code",
   "execution_count": 8,
   "metadata": {},
   "outputs": [
    {
     "name": "stdout",
     "output_type": "stream",
     "text": [
      "        Nome  Età    Città  Salario\n",
      "0       Anna   20  Palermo    47768\n",
      "1      Paolo   39     Roma    37849\n",
      "2      Maria   36  Firenze    58925\n",
      "3  Francesco   61  Bologna    45056\n",
      "4      Maria   47   Milano    65281\n",
      "    Nome  Età    Città  Salario\n",
      "5  Marco   73  Firenze    75982\n",
      "6   Sara   27   Napoli    66285\n",
      "7  Maria   54   Genova    22090\n",
      "8   Anna   27   Verona    40693\n",
      "9   Anna   15  Venezia    25050\n"
     ]
    }
   ],
   "source": [
    "print(df.head())\n",
    "print( df.tail())"
   ]
  },
  {
   "cell_type": "code",
   "execution_count": 9,
   "metadata": {},
   "outputs": [
    {
     "name": "stdout",
     "output_type": "stream",
     "text": [
      "Nome       object\n",
      "Età         int32\n",
      "Città      object\n",
      "Salario     int32\n",
      "dtype: object\n"
     ]
    }
   ],
   "source": [
    "print(df.dtypes)"
   ]
  },
  {
   "cell_type": "code",
   "execution_count": 10,
   "metadata": {},
   "outputs": [
    {
     "name": "stdout",
     "output_type": "stream",
     "text": [
      "             Età       Salario\n",
      "count  10.000000     10.000000\n",
      "mean   39.900000  48497.900000\n",
      "std    18.722832  17938.257381\n",
      "min    15.000000  22090.000000\n",
      "25%    27.000000  38560.000000\n",
      "50%    37.500000  46412.000000\n",
      "75%    52.250000  63692.000000\n",
      "max    73.000000  75982.000000\n",
      "\n",
      "Mediana Salario: 46412.0\n"
     ]
    }
   ],
   "source": [
    "statistiche = df.describe()\n",
    "print(statistiche)\n",
    "print(\"\\nMediana Salario:\", df['Salario'].median())"
   ]
  },
  {
   "cell_type": "code",
   "execution_count": 11,
   "metadata": {},
   "outputs": [
    {
     "name": "stdout",
     "output_type": "stream",
     "text": [
      "0\n"
     ]
    }
   ],
   "source": [
    "duplicati = df.duplicated().sum()\n",
    "print(duplicati)\n",
    "df = df.drop_duplicates()"
   ]
  },
  {
   "cell_type": "code",
   "execution_count": 12,
   "metadata": {},
   "outputs": [
    {
     "name": "stderr",
     "output_type": "stream",
     "text": [
      "C:\\Users\\loren\\AppData\\Local\\Temp\\ipykernel_3464\\788163543.py:2: FutureWarning: A value is trying to be set on a copy of a DataFrame or Series through chained assignment using an inplace method.\n",
      "The behavior will change in pandas 3.0. This inplace method will never work because the intermediate object on which we are setting values always behaves as a copy.\n",
      "\n",
      "For example, when doing 'df[col].method(value, inplace=True)', try using 'df.method({col: value}, inplace=True)' or df[col] = df[col].method(value) instead, to perform the operation inplace on the original object.\n",
      "\n",
      "\n",
      "  df['Salario'].fillna(df['Salario'].median(), inplace=True)\n"
     ]
    }
   ],
   "source": [
    "df.loc[np.random.choice(df.index, 2), 'Salario'] = np.nan\n",
    "df['Salario'].fillna(df['Salario'].median(), inplace=True)"
   ]
  },
  {
   "cell_type": "code",
   "execution_count": 13,
   "metadata": {},
   "outputs": [
    {
     "data": {
      "text/html": [
       "<div>\n",
       "<style scoped>\n",
       "    .dataframe tbody tr th:only-of-type {\n",
       "        vertical-align: middle;\n",
       "    }\n",
       "\n",
       "    .dataframe tbody tr th {\n",
       "        vertical-align: top;\n",
       "    }\n",
       "\n",
       "    .dataframe thead th {\n",
       "        text-align: right;\n",
       "    }\n",
       "</style>\n",
       "<table border=\"1\" class=\"dataframe\">\n",
       "  <thead>\n",
       "    <tr style=\"text-align: right;\">\n",
       "      <th></th>\n",
       "      <th>Nome</th>\n",
       "      <th>Età</th>\n",
       "      <th>Città</th>\n",
       "      <th>Salario</th>\n",
       "    </tr>\n",
       "  </thead>\n",
       "  <tbody>\n",
       "    <tr>\n",
       "      <th>0</th>\n",
       "      <td>Anna</td>\n",
       "      <td>20</td>\n",
       "      <td>Palermo</td>\n",
       "      <td>47768.0</td>\n",
       "    </tr>\n",
       "    <tr>\n",
       "      <th>1</th>\n",
       "      <td>Paolo</td>\n",
       "      <td>39</td>\n",
       "      <td>Roma</td>\n",
       "      <td>37849.0</td>\n",
       "    </tr>\n",
       "    <tr>\n",
       "      <th>2</th>\n",
       "      <td>Maria</td>\n",
       "      <td>36</td>\n",
       "      <td>Firenze</td>\n",
       "      <td>46412.0</td>\n",
       "    </tr>\n",
       "    <tr>\n",
       "      <th>3</th>\n",
       "      <td>Francesco</td>\n",
       "      <td>61</td>\n",
       "      <td>Bologna</td>\n",
       "      <td>45056.0</td>\n",
       "    </tr>\n",
       "    <tr>\n",
       "      <th>4</th>\n",
       "      <td>Maria</td>\n",
       "      <td>47</td>\n",
       "      <td>Milano</td>\n",
       "      <td>65281.0</td>\n",
       "    </tr>\n",
       "    <tr>\n",
       "      <th>5</th>\n",
       "      <td>Marco</td>\n",
       "      <td>73</td>\n",
       "      <td>Firenze</td>\n",
       "      <td>75982.0</td>\n",
       "    </tr>\n",
       "    <tr>\n",
       "      <th>6</th>\n",
       "      <td>Sara</td>\n",
       "      <td>27</td>\n",
       "      <td>Napoli</td>\n",
       "      <td>66285.0</td>\n",
       "    </tr>\n",
       "    <tr>\n",
       "      <th>7</th>\n",
       "      <td>Maria</td>\n",
       "      <td>54</td>\n",
       "      <td>Genova</td>\n",
       "      <td>46412.0</td>\n",
       "    </tr>\n",
       "    <tr>\n",
       "      <th>8</th>\n",
       "      <td>Anna</td>\n",
       "      <td>27</td>\n",
       "      <td>Verona</td>\n",
       "      <td>40693.0</td>\n",
       "    </tr>\n",
       "    <tr>\n",
       "      <th>9</th>\n",
       "      <td>Anna</td>\n",
       "      <td>15</td>\n",
       "      <td>Venezia</td>\n",
       "      <td>25050.0</td>\n",
       "    </tr>\n",
       "  </tbody>\n",
       "</table>\n",
       "</div>"
      ],
      "text/plain": [
       "        Nome  Età    Città  Salario\n",
       "0       Anna   20  Palermo  47768.0\n",
       "1      Paolo   39     Roma  37849.0\n",
       "2      Maria   36  Firenze  46412.0\n",
       "3  Francesco   61  Bologna  45056.0\n",
       "4      Maria   47   Milano  65281.0\n",
       "5      Marco   73  Firenze  75982.0\n",
       "6       Sara   27   Napoli  66285.0\n",
       "7      Maria   54   Genova  46412.0\n",
       "8       Anna   27   Verona  40693.0\n",
       "9       Anna   15  Venezia  25050.0"
      ]
     },
     "execution_count": 13,
     "metadata": {},
     "output_type": "execute_result"
    }
   ],
   "source": [
    "df"
   ]
  },
  {
   "cell_type": "code",
   "execution_count": 14,
   "metadata": {},
   "outputs": [],
   "source": [
    "def classifica_età(età):\n",
    "    if età <= 18:\n",
    "        return \"Giovane\"\n",
    "    elif età <= 65:\n",
    "        return \"Adulto\"\n",
    "    else:\n",
    "        return \"Senior\"\n",
    "\n",
    "df['Categoria Età'] = df['Età'].apply(classifica_età)"
   ]
  },
  {
   "cell_type": "code",
   "execution_count": 15,
   "metadata": {},
   "outputs": [],
   "source": [
    "df.to_csv(\"dataset_pulito.csv\", index=False)"
   ]
  },
  {
   "cell_type": "code",
   "execution_count": null,
   "metadata": {},
   "outputs": [],
   "source": []
  }
 ],
 "metadata": {
  "kernelspec": {
   "display_name": "Python 3",
   "language": "python",
   "name": "python3"
  },
  "language_info": {
   "codemirror_mode": {
    "name": "ipython",
    "version": 3
   },
   "file_extension": ".py",
   "mimetype": "text/x-python",
   "name": "python",
   "nbconvert_exporter": "python",
   "pygments_lexer": "ipython3",
   "version": "3.13.0"
  }
 },
 "nbformat": 4,
 "nbformat_minor": 2
}
